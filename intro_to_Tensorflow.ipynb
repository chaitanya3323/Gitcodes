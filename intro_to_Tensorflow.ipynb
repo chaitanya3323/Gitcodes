{
  "nbformat": 4,
  "nbformat_minor": 0,
  "metadata": {
    "colab": {
      "name": "intro to Tensorflow.ipynb",
      "provenance": [],
      "collapsed_sections": [],
      "toc_visible": true,
      "authorship_tag": "ABX9TyMkupR44ypWfBqfV+/tFDTn",
      "include_colab_link": true
    },
    "kernelspec": {
      "name": "python3",
      "display_name": "Python 3"
    }
  },
  "cells": [
    {
      "cell_type": "markdown",
      "metadata": {
        "id": "view-in-github",
        "colab_type": "text"
      },
      "source": [
        "<a href=\"https://colab.research.google.com/github/chaitanya3323/Gitcodes/blob/master/intro_to_Tensorflow.ipynb\" target=\"_parent\"><img src=\"https://colab.research.google.com/assets/colab-badge.svg\" alt=\"Open In Colab\"/></a>"
      ]
    },
    {
      "cell_type": "code",
      "metadata": {
        "id": "GEOTBWftjFUX",
        "colab_type": "code",
        "colab": {}
      },
      "source": [
        "import tensorflow as tf"
      ],
      "execution_count": 1,
      "outputs": []
    },
    {
      "cell_type": "code",
      "metadata": {
        "id": "5mKFHstgjQgJ",
        "colab_type": "code",
        "colab": {
          "base_uri": "https://localhost:8080/",
          "height": 34
        },
        "outputId": "f91e48e7-2c8d-45a4-99eb-b59958a6edc0"
      },
      "source": [
        "a=tf.Variable(34)\n",
        "b=tf.Variable(23)\n",
        "tf.add(a,b,name='sum')"
      ],
      "execution_count": 14,
      "outputs": [
        {
          "output_type": "execute_result",
          "data": {
            "text/plain": [
              "<tf.Tensor: shape=(), dtype=int32, numpy=57>"
            ]
          },
          "metadata": {
            "tags": []
          },
          "execution_count": 14
        }
      ]
    },
    {
      "cell_type": "code",
      "metadata": {
        "id": "JD20wwhdk4Ne",
        "colab_type": "code",
        "colab": {
          "base_uri": "https://localhost:8080/",
          "height": 34
        },
        "outputId": "ef838a1b-e5af-4b63-b202-4fd50f61ab8a"
      },
      "source": [
        "print(sum)"
      ],
      "execution_count": 15,
      "outputs": [
        {
          "output_type": "stream",
          "text": [
            "tf.Tensor(57, shape=(), dtype=int32)\n"
          ],
          "name": "stdout"
        }
      ]
    },
    {
      "cell_type": "code",
      "metadata": {
        "id": "GowOppqCk75H",
        "colab_type": "code",
        "colab": {
          "base_uri": "https://localhost:8080/",
          "height": 34
        },
        "outputId": "4efc7cc9-ba19-4a46-a88b-a212fe0b8b38"
      },
      "source": [
        "sum.numpy()"
      ],
      "execution_count": 16,
      "outputs": [
        {
          "output_type": "execute_result",
          "data": {
            "text/plain": [
              "57"
            ]
          },
          "metadata": {
            "tags": []
          },
          "execution_count": 16
        }
      ]
    },
    {
      "cell_type": "code",
      "metadata": {
        "id": "dyAhoypVk9lN",
        "colab_type": "code",
        "colab": {
          "base_uri": "https://localhost:8080/",
          "height": 34
        },
        "outputId": "bf707b0f-acc7-44c7-fd8b-b6e836efb5ec"
      },
      "source": [
        "print(sum)"
      ],
      "execution_count": 17,
      "outputs": [
        {
          "output_type": "stream",
          "text": [
            "tf.Tensor(57, shape=(), dtype=int32)\n"
          ],
          "name": "stdout"
        }
      ]
    },
    {
      "cell_type": "code",
      "metadata": {
        "id": "ySdqbb2Jl5E2",
        "colab_type": "code",
        "colab": {
          "base_uri": "https://localhost:8080/",
          "height": 34
        },
        "outputId": "28bc12c0-418f-4e43-d057-f9d9435976f8"
      },
      "source": [
        "sum"
      ],
      "execution_count": 18,
      "outputs": [
        {
          "output_type": "execute_result",
          "data": {
            "text/plain": [
              "<tf.Tensor: shape=(), dtype=int32, numpy=57>"
            ]
          },
          "metadata": {
            "tags": []
          },
          "execution_count": 18
        }
      ]
    },
    {
      "cell_type": "code",
      "metadata": {
        "id": "1t6aI2sNl6q6",
        "colab_type": "code",
        "colab": {}
      },
      "source": [
        "multiplication=tf.multiply(a,b,name='multiplication')"
      ],
      "execution_count": 23,
      "outputs": []
    },
    {
      "cell_type": "code",
      "metadata": {
        "id": "JSLPi-OvmEXi",
        "colab_type": "code",
        "colab": {
          "base_uri": "https://localhost:8080/",
          "height": 34
        },
        "outputId": "cebd4ecf-95b9-4fed-d167-6e740995c996"
      },
      "source": [
        "print(multiplication)"
      ],
      "execution_count": 24,
      "outputs": [
        {
          "output_type": "stream",
          "text": [
            "tf.Tensor(782, shape=(), dtype=int32)\n"
          ],
          "name": "stdout"
        }
      ]
    },
    {
      "cell_type": "code",
      "metadata": {
        "id": "DWxYGVupmIj-",
        "colab_type": "code",
        "colab": {}
      },
      "source": [
        "sub=tf.subtract(a,b)"
      ],
      "execution_count": 25,
      "outputs": []
    },
    {
      "cell_type": "code",
      "metadata": {
        "id": "4SZORNhtmiX-",
        "colab_type": "code",
        "colab": {
          "base_uri": "https://localhost:8080/",
          "height": 34
        },
        "outputId": "d698cbeb-da45-401d-9793-d36a96dffc15"
      },
      "source": [
        "print(sub)"
      ],
      "execution_count": 26,
      "outputs": [
        {
          "output_type": "stream",
          "text": [
            "tf.Tensor(11, shape=(), dtype=int32)\n"
          ],
          "name": "stdout"
        }
      ]
    },
    {
      "cell_type": "markdown",
      "metadata": {
        "id": "9rzBxBqdoUIO",
        "colab_type": "text"
      },
      "source": [
        "## Computational graphs with @tf.function"
      ]
    },
    {
      "cell_type": "code",
      "metadata": {
        "id": "5e1bvpO3otk8",
        "colab_type": "code",
        "colab": {}
      },
      "source": [
        "@tf.function\n",
        "def func(a,b):\n",
        "  z=tf.multiply(a,b)\n",
        "  y1=tf.constant(3)\n",
        "  y2=tf.constant(4)\n",
        "  w1=tf.add(z,y1)\n",
        "  w2=tf.add(z,y2)\n",
        "\n",
        "  return (w1+w2)"
      ],
      "execution_count": 29,
      "outputs": []
    },
    {
      "cell_type": "code",
      "metadata": {
        "id": "mfy0wBwbpKCk",
        "colab_type": "code",
        "colab": {
          "base_uri": "https://localhost:8080/",
          "height": 34
        },
        "outputId": "3910f423-f5cd-49e1-f9d2-27292218ed0d"
      },
      "source": [
        "func(10,20)"
      ],
      "execution_count": 30,
      "outputs": [
        {
          "output_type": "execute_result",
          "data": {
            "text/plain": [
              "<tf.Tensor: shape=(), dtype=int32, numpy=407>"
            ]
          },
          "metadata": {
            "tags": []
          },
          "execution_count": 30
        }
      ]
    },
    {
      "cell_type": "markdown",
      "metadata": {
        "id": "YHyzbY2I0sFq",
        "colab_type": "text"
      },
      "source": [
        "#Calculating gradient"
      ]
    },
    {
      "cell_type": "code",
      "metadata": {
        "id": "A5iVbIUwpd_B",
        "colab_type": "code",
        "colab": {
          "base_uri": "https://localhost:8080/",
          "height": 34
        },
        "outputId": "28b2a1b1-3fdd-480e-bd55-be3a13550857"
      },
      "source": [
        "w=tf.Variable(3.0)\n",
        "\n",
        "with tf.GradientTape() as tape:\n",
        "  expression=tf.exp(w)+2*w +w*w\n",
        "\n",
        "grad=tape.gradient(expression,w)#first argument for the expression to differentiate and secomd for with respect to what you have to dffrentiate\n",
        "print(f'The gradient of exp at {w.numpy()} is {grad.numpy()}')\n"
      ],
      "execution_count": 35,
      "outputs": [
        {
          "output_type": "stream",
          "text": [
            "The gradient of exp at 3.0 is 28.08553695678711\n"
          ],
          "name": "stdout"
        }
      ]
    },
    {
      "cell_type": "markdown",
      "metadata": {
        "id": "mDfCD6xIyafK",
        "colab_type": "text"
      },
      "source": [
        "# similarly we can use it for sigmoid function"
      ]
    }
  ]
}